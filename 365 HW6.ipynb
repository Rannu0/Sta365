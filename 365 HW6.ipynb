{
 "cells": [
  {
   "cell_type": "code",
   "execution_count": 2,
   "id": "f16cad51",
   "metadata": {},
   "outputs": [
    {
     "name": "stderr",
     "output_type": "stream",
     "text": [
      "Auto-assigning NUTS sampler...\n",
      "Initializing NUTS using jitter+adapt_diag...\n",
      "Multiprocess sampling (4 chains in 4 jobs)\n",
      "NUTS: [coeffs_prior]\n"
     ]
    },
    {
     "data": {
      "text/html": [
       "\n",
       "<style>\n",
       "    /* Turns off some styling */\n",
       "    progress {\n",
       "        /* gets rid of default border in Firefox and Opera. */\n",
       "        border: none;\n",
       "        /* Needs to be in here for Safari polyfill so background images work as expected. */\n",
       "        background-size: auto;\n",
       "    }\n",
       "    progress:not([value]), progress:not([value])::-webkit-progress-bar {\n",
       "        background: repeating-linear-gradient(45deg, #7e7e7e, #7e7e7e 10px, #5c5c5c 10px, #5c5c5c 20px);\n",
       "    }\n",
       "    .progress-bar-interrupted, .progress-bar-interrupted::-webkit-progress-bar {\n",
       "        background: #F44336;\n",
       "    }\n",
       "</style>\n"
      ],
      "text/plain": [
       "<IPython.core.display.HTML object>"
      ]
     },
     "metadata": {},
     "output_type": "display_data"
    },
    {
     "data": {
      "text/html": [
       "\n",
       "    <div>\n",
       "      <progress value='8000' class='' max='8000' style='width:300px; height:20px; vertical-align: middle;'></progress>\n",
       "      100.00% [8000/8000 00:02&lt;00:00 Sampling 4 chains, 0 divergences]\n",
       "    </div>\n",
       "    "
      ],
      "text/plain": [
       "<IPython.core.display.HTML object>"
      ]
     },
     "metadata": {},
     "output_type": "display_data"
    },
    {
     "name": "stderr",
     "output_type": "stream",
     "text": [
      "Sampling 4 chains for 1_000 tune and 1_000 draw iterations (4_000 + 4_000 draws total) took 3 seconds.\n"
     ]
    }
   ],
   "source": [
    "import pymc as pm\n",
    "import numpy as np\n",
    "\n",
    "num_samples = 100\n",
    "num_features = 10\n",
    "\n",
    "X_matrix = np.zeros((num_samples, num_features))\n",
    "target_y = np.ones(num_samples)\n",
    "\n",
    "with pm.Model() as logistic_regression_model:\n",
    "    coeffs_prior = pm.MvNormal('coeffs_prior', mu=np.zeros(num_features), cov=np.identity(num_features), shape=num_features)\n",
    "    lin_predictor = pm.math.dot(X_matrix, coeffs_prior)\n",
    "    probabilities = pm.math.sigmoid(lin_predictor)\n",
    "    y_observed = pm.Bernoulli('y_observed', p=probabilities, observed=target_y)\n",
    "    \n",
    "with logistic_regression_model:\n",
    "    posterior_samples = pm.sample()"
   ]
  },
  {
   "cell_type": "code",
   "execution_count": null,
   "id": "6f3dbfeb",
   "metadata": {},
   "outputs": [],
   "source": [
    "import pymc as pm\n",
    "import numpy as np\n",
    "import arviz as az\n",
    "\n",
    "np.random.seed(365)\n",
    "\n",
    "sample_size = 100\n",
    "feature_count = 1\n",
    "true_coefficient = 2.5\n",
    "noise_level = 1\n",
    "\n",
    "X_data = np.random.normal(size=(sample_size, feature_count))\n",
    "mean_response = X_data * true_coefficient\n",
    "response_y = np.random.normal(mean_response.flatten(), scale=noise_level)\n",
    "\n",
    "with pm.Model() as robust_linear_model:\n",
    "    coefficient_prior = pm.Normal('coefficient', mu=0, sigma=10)\n",
    "    degrees_of_freedom = pm.Exponential('degrees_of_freedom', 1/29) + 1\n",
    "    precision_prior = pm.Gamma('precision_prior', alpha=degrees_of_freedom/2, beta=degrees_of_freedom/2, shape=sample_size)\n",
    "    sigma = pm.Deterministic('sigma', 1 / np.sqrt(precision_prior))\n",
    "    observed_y = pm.Normal('observed_y', mu=X_data[:, 0] * coefficient_prior, sigma=sigma, observed=response_y)\n",
    "    posterior_trace = pm.sample(1000, target_accept=0.9, return_inferencedata=True)\n",
    "\n",
    "precision_posterior_mean = az.summary(posterior_trace, var_names=['precision_prior'])['mean'].values\n",
    "outlier_threshold = np.quantile(precision_posterior_mean, 0.05)\n",
    "identified_outliers = np.where(precision_posterior_mean < outlier_threshold)[0]\n",
    "\n",
    "print(f\"Identified potential outliers: {identified_outliers}\")"
   ]
  },
  {
   "cell_type": "code",
   "execution_count": null,
   "id": "2b9d774b",
   "metadata": {},
   "outputs": [],
   "source": []
  }
 ],
 "metadata": {
  "kernelspec": {
   "display_name": "Python 3 (ipykernel)",
   "language": "python",
   "name": "python3"
  },
  "language_info": {
   "codemirror_mode": {
    "name": "ipython",
    "version": 3
   },
   "file_extension": ".py",
   "mimetype": "text/x-python",
   "name": "python",
   "nbconvert_exporter": "python",
   "pygments_lexer": "ipython3",
   "version": "3.11.6"
  }
 },
 "nbformat": 4,
 "nbformat_minor": 5
}
