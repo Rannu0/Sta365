{
 "cells": [
  {
   "cell_type": "markdown",
   "id": "899ac925",
   "metadata": {},
   "source": [
    "# HW 7"
   ]
  },
  {
   "cell_type": "markdown",
   "id": "a7170eb3",
   "metadata": {},
   "source": [
    "1. For mixture models, the posterior predictive distribution combines each component's predictive distribution. It uses weights based on the posterior probabilities of the model parameters. This process accounts for uncertainty in parameter values and component memberships for new data."
   ]
  },
  {
   "cell_type": "markdown",
   "id": "89bdb200",
   "metadata": {},
   "source": [
    "2. The posterior predictive distribution is created by averaging the predictive distributions across all possible parameter values, weighted by their likelihood given the observed data (the posterior distribution). This process involves integrating the likelihood of new data over the entire posterior distribution of parameters, capturing the uncertainty inherent in the predictions."
   ]
  },
  {
   "cell_type": "markdown",
   "id": "a123350a",
   "metadata": {},
   "source": [
    "3. To perform a Bayesian analysis on data with missing values in \\(X\\) without discarding rows, first, introduce latent variables in place of the missing values. Next, specify prior distributions for these latent variables alongside the priors for your model's parameters. During the Bayesian inference process, use a computational method like Markov Chain Monte Carlo (MCMC) to iteratively sample from the posterior distributions of both the latent variables (the missing data) and the model parameters. This approach treats the missing values as unknown parameters to be estimated, allowing for their uncertainty to be naturally incorporated into the model's predictions and inferences."
   ]
  }
 ],
 "metadata": {
  "kernelspec": {
   "display_name": "Python 3 (ipykernel)",
   "language": "python",
   "name": "python3"
  },
  "language_info": {
   "codemirror_mode": {
    "name": "ipython",
    "version": 3
   },
   "file_extension": ".py",
   "mimetype": "text/x-python",
   "name": "python",
   "nbconvert_exporter": "python",
   "pygments_lexer": "ipython3",
   "version": "3.11.6"
  }
 },
 "nbformat": 4,
 "nbformat_minor": 5
}
